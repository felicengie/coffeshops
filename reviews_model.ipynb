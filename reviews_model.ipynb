{
  "cells": [
    {
      "cell_type": "markdown",
      "metadata": {
        "id": "view-in-github",
        "colab_type": "text"
      },
      "source": [
        "<a href=\"https://colab.research.google.com/github/felicengie/from_coffeemachine_to_machinelearning/blob/main/reviews_model.ipynb\" target=\"_parent\"><img src=\"https://colab.research.google.com/assets/colab-badge.svg\" alt=\"Open In Colab\"/></a>"
      ]
    },
    {
      "cell_type": "code",
      "execution_count": null,
      "metadata": {
        "colab": {
          "base_uri": "https://localhost:8080/"
        },
        "id": "v3PjuTkcOvJ-",
        "outputId": "f1c93db0-9b99-4430-c82c-e4c9d53ed786"
      },
      "outputs": [
        {
          "name": "stdout",
          "output_type": "stream",
          "text": [
            "\u001b[2K     \u001b[90m━━━━━━━━━━━━━━━━━━━━━━━━━━━━━━━━━━━━━━━━\u001b[0m \u001b[32m7.9/7.9 MB\u001b[0m \u001b[31m45.7 MB/s\u001b[0m eta \u001b[36m0:00:00\u001b[0m\n",
            "\u001b[2K     \u001b[90m━━━━━━━━━━━━━━━━━━━━━━━━━━━━━━━━━━━━━━━━\u001b[0m \u001b[32m311.2/311.2 kB\u001b[0m \u001b[31m29.8 MB/s\u001b[0m eta \u001b[36m0:00:00\u001b[0m\n",
            "\u001b[2K     \u001b[90m━━━━━━━━━━━━━━━━━━━━━━━━━━━━━━━━━━━━━━━━\u001b[0m \u001b[32m3.8/3.8 MB\u001b[0m \u001b[31m85.2 MB/s\u001b[0m eta \u001b[36m0:00:00\u001b[0m\n",
            "\u001b[2K     \u001b[90m━━━━━━━━━━━━━━━━━━━━━━━━━━━━━━━━━━━━━━━━\u001b[0m \u001b[32m1.3/1.3 MB\u001b[0m \u001b[31m72.8 MB/s\u001b[0m eta \u001b[36m0:00:00\u001b[0m\n",
            "\u001b[2K     \u001b[90m━━━━━━━━━━━━━━━━━━━━━━━━━━━━━━━━━━━━━━━━\u001b[0m \u001b[32m295.0/295.0 kB\u001b[0m \u001b[31m22.3 MB/s\u001b[0m eta \u001b[36m0:00:00\u001b[0m\n",
            "\u001b[?25h"
          ]
        }
      ],
      "source": [
        "!pip install -q transformers"
      ]
    },
    {
      "cell_type": "code",
      "execution_count": null,
      "metadata": {
        "colab": {
          "base_uri": "https://localhost:8080/"
        },
        "id": "8uR7zp7DbuP2",
        "outputId": "706ec063-1f55-4f20-8ee0-befb6023c4a4"
      },
      "outputs": [
        {
          "name": "stdout",
          "output_type": "stream",
          "text": [
            "Mounted at /content/drive\n"
          ]
        }
      ],
      "source": [
        "from google.colab import drive\n",
        "drive.mount('/content/drive', force_remount=True)"
      ]
    },
    {
      "cell_type": "code",
      "execution_count": null,
      "metadata": {
        "id": "ag8ri8XbqecW"
      },
      "outputs": [],
      "source": [
        "import pandas as pd\n",
        "import numpy as np\n",
        "import matplotlib.pyplot as plt\n",
        "import seaborn as sns\n",
        "import torch\n",
        "from transformers import pipeline, DistilBertTokenizer, DistilBertForSequenceClassification"
      ]
    },
    {
      "cell_type": "code",
      "execution_count": null,
      "metadata": {
        "colab": {
          "base_uri": "https://localhost:8080/"
        },
        "id": "ZgNfcnMVrBaB",
        "outputId": "30f3e54e-4f4e-4776-8c12-9202faf5d90b"
      },
      "outputs": [
        {
          "data": {
            "text/plain": [
              "<bound method NDFrame.head of                   business_id                  name              address  \\\n",
              "0      MTSW4McQd7CbVtyjqoe9mw    St Honore Pastries          935 Race St   \n",
              "1      MTSW4McQd7CbVtyjqoe9mw    St Honore Pastries          935 Race St   \n",
              "2      MTSW4McQd7CbVtyjqoe9mw    St Honore Pastries          935 Race St   \n",
              "3      MTSW4McQd7CbVtyjqoe9mw    St Honore Pastries          935 Race St   \n",
              "4      MTSW4McQd7CbVtyjqoe9mw    St Honore Pastries          935 Race St   \n",
              "...                       ...                   ...                  ...   \n",
              "49307  cM6V90ExQD6KMSU3rRB5ZA     Dutch Bros Coffee  1181 N Milwaukee St   \n",
              "49308  1jx1sfgjgVg0nM6n3p0xWA  Savaya Coffee Market    11177 N Oracle Rd   \n",
              "49309  1jx1sfgjgVg0nM6n3p0xWA  Savaya Coffee Market    11177 N Oracle Rd   \n",
              "49310  1jx1sfgjgVg0nM6n3p0xWA  Savaya Coffee Market    11177 N Oracle Rd   \n",
              "49311  1jx1sfgjgVg0nM6n3p0xWA  Savaya Coffee Market    11177 N Oracle Rd   \n",
              "\n",
              "               city state postal_code   latitude   longitude  stars_x  \\\n",
              "0      Philadelphia    PA       19107  39.955505  -75.155564      4.0   \n",
              "1      Philadelphia    PA       19107  39.955505  -75.155564      4.0   \n",
              "2      Philadelphia    PA       19107  39.955505  -75.155564      4.0   \n",
              "3      Philadelphia    PA       19107  39.955505  -75.155564      4.0   \n",
              "4      Philadelphia    PA       19107  39.955505  -75.155564      4.0   \n",
              "...             ...   ...         ...        ...         ...      ...   \n",
              "49307         Boise    ID       83704  43.615401 -116.284689      4.0   \n",
              "49308    Oro Valley    AZ       85737  32.409552 -110.943073      4.5   \n",
              "49309    Oro Valley    AZ       85737  32.409552 -110.943073      4.5   \n",
              "49310    Oro Valley    AZ       85737  32.409552 -110.943073      4.5   \n",
              "49311    Oro Valley    AZ       85737  32.409552 -110.943073      4.5   \n",
              "\n",
              "       review_count  ...                                              hours  \\\n",
              "0                80  ...  {'Monday': '7:0-20:0', 'Tuesday': '7:0-20:0', ...   \n",
              "1                80  ...  {'Monday': '7:0-20:0', 'Tuesday': '7:0-20:0', ...   \n",
              "2                80  ...  {'Monday': '7:0-20:0', 'Tuesday': '7:0-20:0', ...   \n",
              "3                80  ...  {'Monday': '7:0-20:0', 'Tuesday': '7:0-20:0', ...   \n",
              "4                80  ...  {'Monday': '7:0-20:0', 'Tuesday': '7:0-20:0', ...   \n",
              "...             ...  ...                                                ...   \n",
              "49307            33  ...  {'Monday': '0:0-0:0', 'Tuesday': '0:0-17:0', '...   \n",
              "49308            41  ...  {'Monday': '0:0-0:0', 'Tuesday': '6:0-14:0', '...   \n",
              "49309            41  ...  {'Monday': '0:0-0:0', 'Tuesday': '6:0-14:0', '...   \n",
              "49310            41  ...  {'Monday': '0:0-0:0', 'Tuesday': '6:0-14:0', '...   \n",
              "49311            41  ...  {'Monday': '0:0-0:0', 'Tuesday': '6:0-14:0', '...   \n",
              "\n",
              "              business_name               review_id                 user_id  \\\n",
              "0        St Honore Pastries  _hJu0u6nB-8LIeQJY4Vg4w  KQSRUu4Aapl0hG6eu2v8iw   \n",
              "1        St Honore Pastries  ig1uz_vY0ZNtqUHFU9_8Sg  g3HFkZgloxLQCvoJ5Zs5gg   \n",
              "2        St Honore Pastries  rFXOzAix3KgpB689TxpQsA  OmL2bjLvvRxg1brM5Pehgw   \n",
              "3        St Honore Pastries  kwHShYMSMSIX6paT6GZihw  Pt8wZkFQNQfm2IlWJ9Ipng   \n",
              "4        St Honore Pastries  fI_dVXwDk_MtmCufRabMgg  nDFRVVcNLLUt-F_s0yBIPA   \n",
              "...                     ...                     ...                     ...   \n",
              "49307     Dutch Bros Coffee  ELvfKQ24UvibzkzN3L2EAg  eoYjRAnJyY3kEcJ6pLudFg   \n",
              "49308  Savaya Coffee Market  M7fyMCKRVD_6TE-UxCmYuA  zdynuQmLEi58ZQL2kYiqCw   \n",
              "49309  Savaya Coffee Market  ha2FKV7OjyuKLkacbDe7DA  aIKrUYSLXMKU3NMM8A2pRA   \n",
              "49310  Savaya Coffee Market  CNXwb2Gm4AQgyqqY32ZbcQ  s38SsSiuDqI8qWX1mWowYA   \n",
              "49311  Savaya Coffee Market  FUpUbM_AgMjmjwOu2Xv_xg  ZnYUKdeURohXs6HF8Sdnkg   \n",
              "\n",
              "      stars_y useful funny  cool  \\\n",
              "0           4      1     0     0   \n",
              "1           4      2     2     2   \n",
              "2           5      0     0     0   \n",
              "3           4      0     0     1   \n",
              "4           3      2     0     1   \n",
              "...       ...    ...   ...   ...   \n",
              "49307       1      0     0     0   \n",
              "49308       4      0     0     0   \n",
              "49309       5      4     0     1   \n",
              "49310       5      4     0     0   \n",
              "49311       5      3     0     1   \n",
              "\n",
              "                                                    text                 date  \n",
              "0      This is my favorite bakery in Chinatown! I usu...  2018-03-17 23:47:25  \n",
              "1      I am quite partial to the St Honore in Mei Foo...   2013-03-01 0:50:48  \n",
              "2      I've been looking for a good place that serves...  2013-11-18 16:33:04  \n",
              "3      Their egg tarts are the best. The crust is fla...  2014-04-05 23:17:49  \n",
              "4      Arguably the best Chinese pastry shop in Phill...  2009-02-21 22:07:07  \n",
              "...                                                  ...                  ...  \n",
              "49307  Does not take cash - :( and placed very simple...  2021-02-06 18:19:44  \n",
              "49308  I've been to three of the four Savaya Coffee c...   2015-01-12 8:45:00  \n",
              "49309  The coffee was good, but the customer service ...  2015-11-12 19:10:43  \n",
              "49310  LOVE THIS PLACE!\\n\\nOh my goodness, I think I'...  2016-08-01 21:50:29  \n",
              "49311  It's a little hard to find but worth the trip....   2021-07-04 2:11:56  \n",
              "\n",
              "[49312 rows x 23 columns]>"
            ]
          },
          "execution_count": 5,
          "metadata": {},
          "output_type": "execute_result"
        }
      ],
      "source": [
        "#import dataset\n",
        "#df = pd.read_csv('/content/drive/MyDrive/Accenture #2 (NYC) - From Coffee Machines to Machine Learning (Team B)/Datasets/reviews.csv')\n",
        "#df = pd.read_csv('/content/cafe_reviews_correct.csv')\n",
        "df = pd.read_csv('/content/drive/MyDrive/Accenture #2 (NYC) - From Coffee Machines to Machine Learning (Team B)/Datasets/filtered_business_reviews_correct - filtered_business_reviews_correct.csv.csv')\n",
        "df.head"
      ]
    },
    {
      "cell_type": "code",
      "execution_count": null,
      "metadata": {
        "colab": {
          "base_uri": "https://localhost:8080/"
        },
        "id": "xmEowvYsxrHO",
        "outputId": "d85570da-e650-428f-f159-34ec556787d1"
      },
      "outputs": [
        {
          "data": {
            "text/plain": [
              "Index(['business_id', 'name', 'address', 'city', 'state', 'postal_code',\n",
              "       'latitude', 'longitude', 'stars_x', 'review_count', 'is_open',\n",
              "       'attributes', 'categories', 'hours', 'business_name', 'review_id',\n",
              "       'user_id', 'stars_y', 'useful', 'funny', 'cool', 'text', 'date'],\n",
              "      dtype='object')"
            ]
          },
          "execution_count": 6,
          "metadata": {},
          "output_type": "execute_result"
        }
      ],
      "source": [
        "df.columns"
      ]
    },
    {
      "cell_type": "code",
      "execution_count": null,
      "metadata": {
        "colab": {
          "base_uri": "https://localhost:8080/"
        },
        "id": "irqgsYddzOCZ",
        "outputId": "6fcf9203-37d7-4f88-92eb-308b9041e965"
      },
      "outputs": [
        {
          "data": {
            "text/plain": [
              "business_id       object\n",
              "name              object\n",
              "address           object\n",
              "city              object\n",
              "state             object\n",
              "postal_code       object\n",
              "latitude         float64\n",
              "longitude        float64\n",
              "stars_x          float64\n",
              "review_count       int64\n",
              "is_open            int64\n",
              "attributes        object\n",
              "categories        object\n",
              "hours             object\n",
              "business_name     object\n",
              "review_id         object\n",
              "user_id           object\n",
              "stars_y            int64\n",
              "useful             int64\n",
              "funny              int64\n",
              "cool               int64\n",
              "text              object\n",
              "date              object\n",
              "dtype: object"
            ]
          },
          "execution_count": 7,
          "metadata": {},
          "output_type": "execute_result"
        }
      ],
      "source": [
        "df.dtypes"
      ]
    },
    {
      "cell_type": "code",
      "execution_count": null,
      "metadata": {
        "colab": {
          "base_uri": "https://localhost:8080/"
        },
        "id": "id7PRY0F2SnO",
        "outputId": "e757c7c9-9110-4b05-aa43-e4a144f198f6"
      },
      "outputs": [
        {
          "data": {
            "text/plain": [
              "(49312, 23)"
            ]
          },
          "execution_count": 8,
          "metadata": {},
          "output_type": "execute_result"
        }
      ],
      "source": [
        "df.shape"
      ]
    },
    {
      "cell_type": "code",
      "execution_count": null,
      "metadata": {
        "colab": {
          "base_uri": "https://localhost:8080/"
        },
        "id": "1Futa8qZXQdh",
        "outputId": "ee9ded57-02e2-436c-95d6-27884d5a71b5"
      },
      "outputs": [
        {
          "data": {
            "text/plain": [
              "0        This is my favorite bakery in Chinatown! I usu...\n",
              "1        I am quite partial to the St Honore in Mei Foo...\n",
              "2        I've been looking for a good place that serves...\n",
              "3        Their egg tarts are the best. The crust is fla...\n",
              "4        Arguably the best Chinese pastry shop in Phill...\n",
              "                               ...                        \n",
              "49307    Does not take cash - :( and placed very simple...\n",
              "49308    I've been to three of the four Savaya Coffee c...\n",
              "49309    The coffee was good, but the customer service ...\n",
              "49310    LOVE THIS PLACE!\\n\\nOh my goodness, I think I'...\n",
              "49311    It's a little hard to find but worth the trip....\n",
              "Name: text, Length: 49312, dtype: object"
            ]
          },
          "execution_count": 15,
          "metadata": {},
          "output_type": "execute_result"
        }
      ],
      "source": [
        "reviews = df['text']\n",
        "#[:100]\n",
        "reviews"
      ]
    },
    {
      "cell_type": "code",
      "execution_count": null,
      "metadata": {
        "colab": {
          "base_uri": "https://localhost:8080/",
          "height": 89
        },
        "id": "mAwAdzJJTja9",
        "outputId": "ee4506be-ad0b-4342-d19e-9bcb53c69438"
      },
      "outputs": [
        {
          "data": {
            "application/vnd.google.colaboratory.intrinsic+json": {
              "type": "string"
            },
            "text/plain": [
              "'\\nsentiment_pipeline = pipeline(\"sentiment-analysis\", max_seq_length = 128, truncation=True)\\n\\ndata = reviews.astype(\\'string\\').tolist()\\ntokenizer = DistilBertTokenizer.from_pretrained(\"distilbert-base-uncased\")\\nmodel = DistilBertForSequenceClassification.from_pretrained(\"distilbert-base-uncased\")\\ninputs = tokenizer(data, return_tensors=\"pt\", max_seq_length = 600)\\n\\nwith torch.no_grad():\\n    logits = model(**inputs).logits\\n\\npredicted_class_id = logits.argmax().item()\\nmodel.config.id2label[predicted_class_id]\\n'"
            ]
          },
          "execution_count": 10,
          "metadata": {},
          "output_type": "execute_result"
        }
      ],
      "source": [
        "'''\n",
        "sentiment_pipeline = pipeline(\"sentiment-analysis\", max_seq_length = 128, truncation=True)\n",
        "\n",
        "data = reviews.astype('string').tolist()\n",
        "tokenizer = DistilBertTokenizer.from_pretrained(\"distilbert-base-uncased\")\n",
        "model = DistilBertForSequenceClassification.from_pretrained(\"distilbert-base-uncased\")\n",
        "inputs = tokenizer(data, return_tensors=\"pt\", max_seq_length = 600)\n",
        "\n",
        "with torch.no_grad():\n",
        "    logits = model(**inputs).logits\n",
        "\n",
        "predicted_class_id = logits.argmax().item()\n",
        "model.config.id2label[predicted_class_id]\n",
        "'''"
      ]
    },
    {
      "cell_type": "code",
      "execution_count": null,
      "metadata": {
        "colab": {
          "background_save": true,
          "base_uri": "https://localhost:8080/"
        },
        "id": "EVwqiuxhm_dT",
        "outputId": "da389257-8a83-4e17-ef32-626bf9f64348"
      },
      "outputs": [
        {
          "name": "stderr",
          "output_type": "stream",
          "text": [
            "Some weights of the model checkpoint at VictorSanh/roberta-base-finetuned-yelp-polarity were not used when initializing RobertaForSequenceClassification: ['roberta.pooler.dense.bias', 'roberta.pooler.dense.weight']\n",
            "- This IS expected if you are initializing RobertaForSequenceClassification from the checkpoint of a model trained on another task or with another architecture (e.g. initializing a BertForSequenceClassification model from a BertForPreTraining model).\n",
            "- This IS NOT expected if you are initializing RobertaForSequenceClassification from the checkpoint of a model that you expect to be exactly identical (initializing a BertForSequenceClassification model from a BertForSequenceClassification model).\n"
          ]
        }
      ],
      "source": [
        "sentiment_pipeline = pipeline('text-classification', model=\"VictorSanh/roberta-base-finetuned-yelp-polarity\", truncation=True)\n",
        "data = reviews.astype('string').tolist()\n",
        "reviews_sentiment_classified = sentiment_pipeline(data)"
      ]
    },
    {
      "cell_type": "markdown",
      "metadata": {
        "id": "H0wtMAhFpod1"
      },
      "source": [
        "After generating sentiment classification output from model, filter by positive reviews (LABEL_1: POS, LABEL_0: NEG). Perform another round of classification binning the data based on review rating (1-5 stars), and visualize common words in reviews for each rating class in a bar graph"
      ]
    },
    {
      "cell_type": "code",
      "execution_count": null,
      "metadata": {
        "colab": {
          "base_uri": "https://localhost:8080/"
        },
        "id": "7ZlELbq6T4Qy",
        "outputId": "ca3c569e-ea35-4cdf-e91a-d9b4ef366900"
      },
      "outputs": [
        {
          "data": {
            "text/plain": [
              "[{'label': 'LABEL_1', 'score': 0.9998899698257446},\n",
              " {'label': 'LABEL_1', 'score': 0.9997815489768982},\n",
              " {'label': 'LABEL_1', 'score': 0.9998898506164551},\n",
              " {'label': 'LABEL_1', 'score': 0.9998863935470581},\n",
              " {'label': 'LABEL_1', 'score': 0.9998650550842285},\n",
              " {'label': 'LABEL_1', 'score': 0.9998849630355835},\n",
              " {'label': 'LABEL_1', 'score': 0.9998626708984375},\n",
              " {'label': 'LABEL_1', 'score': 0.9998874664306641},\n",
              " {'label': 'LABEL_1', 'score': 0.9998931884765625},\n",
              " {'label': 'LABEL_1', 'score': 0.9998500347137451},\n",
              " {'label': 'LABEL_1', 'score': 0.9998794794082642},\n",
              " {'label': 'LABEL_1', 'score': 0.9996008276939392},\n",
              " {'label': 'LABEL_1', 'score': 0.9998905658721924},\n",
              " {'label': 'LABEL_0', 'score': 0.9999262094497681},\n",
              " {'label': 'LABEL_0', 'score': 0.9591493606567383},\n",
              " {'label': 'LABEL_1', 'score': 0.9893833994865417},\n",
              " {'label': 'LABEL_0', 'score': 0.9994194507598877},\n",
              " {'label': 'LABEL_0', 'score': 0.8027721643447876},\n",
              " {'label': 'LABEL_0', 'score': 0.9456093311309814},\n",
              " {'label': 'LABEL_1', 'score': 0.9998832941055298},\n",
              " {'label': 'LABEL_1', 'score': 0.9998939037322998},\n",
              " {'label': 'LABEL_0', 'score': 0.9998455047607422},\n",
              " {'label': 'LABEL_1', 'score': 0.999178946018219},\n",
              " {'label': 'LABEL_1', 'score': 0.9998351335525513},\n",
              " {'label': 'LABEL_1', 'score': 0.9995399713516235},\n",
              " {'label': 'LABEL_1', 'score': 0.9974507689476013},\n",
              " {'label': 'LABEL_0', 'score': 0.9999096393585205},\n",
              " {'label': 'LABEL_1', 'score': 0.999875545501709},\n",
              " {'label': 'LABEL_1', 'score': 0.9998760223388672},\n",
              " {'label': 'LABEL_1', 'score': 0.9998852014541626},\n",
              " {'label': 'LABEL_1', 'score': 0.9998759031295776},\n",
              " {'label': 'LABEL_1', 'score': 0.999319314956665},\n",
              " {'label': 'LABEL_0', 'score': 0.9999308586120605},\n",
              " {'label': 'LABEL_1', 'score': 0.9976069927215576},\n",
              " {'label': 'LABEL_1', 'score': 0.982792854309082},\n",
              " {'label': 'LABEL_0', 'score': 0.9745571613311768},\n",
              " {'label': 'LABEL_1', 'score': 0.9997231364250183},\n",
              " {'label': 'LABEL_1', 'score': 0.9991651773452759},\n",
              " {'label': 'LABEL_1', 'score': 0.9998857975006104},\n",
              " {'label': 'LABEL_1', 'score': 0.9998878240585327},\n",
              " {'label': 'LABEL_1', 'score': 0.9996824264526367},\n",
              " {'label': 'LABEL_1', 'score': 0.9998812675476074},\n",
              " {'label': 'LABEL_1', 'score': 0.9998582601547241},\n",
              " {'label': 'LABEL_0', 'score': 0.9998602867126465},\n",
              " {'label': 'LABEL_1', 'score': 0.9998835325241089},\n",
              " {'label': 'LABEL_1', 'score': 0.999890923500061},\n",
              " {'label': 'LABEL_0', 'score': 0.9986795783042908},\n",
              " {'label': 'LABEL_1', 'score': 0.9998905658721924},\n",
              " {'label': 'LABEL_0', 'score': 0.9999158382415771},\n",
              " {'label': 'LABEL_1', 'score': 0.9998832941055298},\n",
              " {'label': 'LABEL_0', 'score': 0.9991415739059448},\n",
              " {'label': 'LABEL_1', 'score': 0.9998742341995239},\n",
              " {'label': 'LABEL_1', 'score': 0.9876590371131897},\n",
              " {'label': 'LABEL_1', 'score': 0.9990899562835693},\n",
              " {'label': 'LABEL_0', 'score': 0.9994924068450928},\n",
              " {'label': 'LABEL_1', 'score': 0.9998086094856262},\n",
              " {'label': 'LABEL_1', 'score': 0.9997958540916443},\n",
              " {'label': 'LABEL_1', 'score': 0.9998892545700073},\n",
              " {'label': 'LABEL_1', 'score': 0.9998823404312134},\n",
              " {'label': 'LABEL_0', 'score': 0.9973552227020264},\n",
              " {'label': 'LABEL_1', 'score': 0.9998902082443237},\n",
              " {'label': 'LABEL_1', 'score': 0.9945420622825623},\n",
              " {'label': 'LABEL_0', 'score': 0.999268114566803},\n",
              " {'label': 'LABEL_1', 'score': 0.9998904466629028},\n",
              " {'label': 'LABEL_1', 'score': 0.9998877048492432},\n",
              " {'label': 'LABEL_1', 'score': 0.9998811483383179},\n",
              " {'label': 'LABEL_1', 'score': 0.9997287392616272},\n",
              " {'label': 'LABEL_1', 'score': 0.9998886585235596},\n",
              " {'label': 'LABEL_1', 'score': 0.9998087286949158},\n",
              " {'label': 'LABEL_1', 'score': 0.9994804263114929},\n",
              " {'label': 'LABEL_1', 'score': 0.998611330986023},\n",
              " {'label': 'LABEL_1', 'score': 0.9998840093612671},\n",
              " {'label': 'LABEL_1', 'score': 0.9998886585235596},\n",
              " {'label': 'LABEL_1', 'score': 0.9998595714569092},\n",
              " {'label': 'LABEL_1', 'score': 0.9998711347579956},\n",
              " {'label': 'LABEL_1', 'score': 0.999883770942688},\n",
              " {'label': 'LABEL_1', 'score': 0.9998695850372314},\n",
              " {'label': 'LABEL_1', 'score': 0.9998823404312134},\n",
              " {'label': 'LABEL_1', 'score': 0.9995031356811523},\n",
              " {'label': 'LABEL_1', 'score': 0.9998427629470825},\n",
              " {'label': 'LABEL_1', 'score': 0.9997376799583435},\n",
              " {'label': 'LABEL_1', 'score': 0.9998911619186401},\n",
              " {'label': 'LABEL_1', 'score': 0.9986953139305115},\n",
              " {'label': 'LABEL_0', 'score': 0.9999202489852905},\n",
              " {'label': 'LABEL_1', 'score': 0.9998944997787476},\n",
              " {'label': 'LABEL_0', 'score': 0.9999290704727173},\n",
              " {'label': 'LABEL_0', 'score': 0.9999300241470337},\n",
              " {'label': 'LABEL_0', 'score': 0.9998733997344971},\n",
              " {'label': 'LABEL_0', 'score': 0.9999136924743652},\n",
              " {'label': 'LABEL_1', 'score': 0.9998574256896973},\n",
              " {'label': 'LABEL_1', 'score': 0.999890923500061},\n",
              " {'label': 'LABEL_0', 'score': 0.9999291896820068},\n",
              " {'label': 'LABEL_1', 'score': 0.9996638298034668},\n",
              " {'label': 'LABEL_0', 'score': 0.9998899698257446},\n",
              " {'label': 'LABEL_1', 'score': 0.9998674392700195},\n",
              " {'label': 'LABEL_1', 'score': 0.9998719692230225},\n",
              " {'label': 'LABEL_0', 'score': 0.9868648648262024},\n",
              " {'label': 'LABEL_1', 'score': 0.999874472618103},\n",
              " {'label': 'LABEL_0', 'score': 0.9908017516136169},\n",
              " {'label': 'LABEL_1', 'score': 0.9998877048492432}]"
            ]
          },
          "execution_count": 12,
          "metadata": {},
          "output_type": "execute_result"
        }
      ],
      "source": [
        "reviews_sentiment_classified"
      ]
    },
    {
      "cell_type": "code",
      "execution_count": null,
      "metadata": {
        "colab": {
          "base_uri": "https://localhost:8080/"
        },
        "id": "jDymA9rYvG5F",
        "outputId": "8a479483-f906-46b5-fb0d-8b342bf19e9f"
      },
      "outputs": [
        {
          "data": {
            "text/plain": [
              "{'label': 'LABEL_1', 'score': 0.9998899698257446}"
            ]
          },
          "execution_count": 13,
          "metadata": {},
          "output_type": "execute_result"
        }
      ],
      "source": [
        "reviews_sentiment_classified_pos = reviews_sentiment_classified[reviews_sentiment_classified == 'Label_1']\n",
        "reviews_sentiment_classified_pos"
      ]
    },
    {
      "cell_type": "code",
      "execution_count": null,
      "metadata": {
        "id": "tQDfy35pw8lB"
      },
      "outputs": [],
      "source": []
    }
  ],
  "metadata": {
    "colab": {
      "provenance": [],
      "include_colab_link": true
    },
    "kernelspec": {
      "display_name": "Python 3",
      "name": "python3"
    },
    "language_info": {
      "name": "python"
    }
  },
  "nbformat": 4,
  "nbformat_minor": 0
}